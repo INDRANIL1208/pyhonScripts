{
 "metadata": {
  "language_info": {
   "codemirror_mode": {
    "name": "ipython",
    "version": 3
   },
   "file_extension": ".py",
   "mimetype": "text/x-python",
   "name": "python",
   "nbconvert_exporter": "python",
   "pygments_lexer": "ipython3",
   "version": "3.8.8-final"
  },
  "orig_nbformat": 2,
  "kernelspec": {
   "name": "python3",
   "display_name": "Python 3.8.8 64-bit",
   "metadata": {
    "interpreter": {
     "hash": "1fa40f19a02a5aac3d406f5b65098d6b1909bf6799745dc0a8705d849e5141fd"
    }
   }
  }
 },
 "nbformat": 4,
 "nbformat_minor": 2,
 "cells": [
  {
   "cell_type": "code",
   "execution_count": 24,
   "metadata": {},
   "outputs": [],
   "source": [
    "# VARIABLES IN PYTHON"
   ]
  },
  {
   "cell_type": "code",
   "execution_count": 2,
   "metadata": {},
   "outputs": [
    {
     "output_type": "stream",
     "name": "stdout",
     "text": [
      "8\n"
     ]
    }
   ],
   "source": [
    "x=5+3\n",
    "print(x)"
   ]
  },
  {
   "cell_type": "code",
   "execution_count": 3,
   "metadata": {},
   "outputs": [],
   "source": [
    "# FUNCTIONS IN PYTHON"
   ]
  },
  {
   "cell_type": "code",
   "execution_count": 4,
   "metadata": {},
   "outputs": [
    {
     "output_type": "execute_result",
     "data": {
      "text/plain": [
       "11"
      ]
     },
     "metadata": {},
     "execution_count": 4
    }
   ],
   "source": [
    "#Define a constant function\n",
    "\n",
    "def add():\n",
    "    a=5\n",
    "    b=6\n",
    "    sum=a+b\n",
    "    return sum\n",
    "add()"
   ]
  },
  {
   "cell_type": "code",
   "execution_count": 5,
   "metadata": {},
   "outputs": [
    {
     "output_type": "error",
     "ename": "ValueError",
     "evalue": "invalid literal for int() with base 10: ''",
     "traceback": [
      "\u001b[1;31m---------------------------------------------------------------------------\u001b[0m",
      "\u001b[1;31mValueError\u001b[0m                                Traceback (most recent call last)",
      "\u001b[1;32m<ipython-input-5-645ca0e97430>\u001b[0m in \u001b[0;36m<module>\u001b[1;34m\u001b[0m\n\u001b[0;32m      2\u001b[0m     \u001b[0mresult\u001b[0m\u001b[1;33m=\u001b[0m\u001b[0mval1\u001b[0m\u001b[1;33m+\u001b[0m\u001b[0mval2\u001b[0m\u001b[1;33m\u001b[0m\u001b[1;33m\u001b[0m\u001b[0m\n\u001b[0;32m      3\u001b[0m     \u001b[1;32mreturn\u001b[0m \u001b[0mresult\u001b[0m\u001b[1;33m\u001b[0m\u001b[1;33m\u001b[0m\u001b[0m\n\u001b[1;32m----> 4\u001b[1;33m \u001b[0ma\u001b[0m\u001b[1;33m=\u001b[0m\u001b[0mint\u001b[0m\u001b[1;33m(\u001b[0m\u001b[0minput\u001b[0m\u001b[1;33m(\u001b[0m\u001b[1;34m\"Enter a value for VAL1\"\u001b[0m\u001b[1;33m)\u001b[0m\u001b[1;33m)\u001b[0m\u001b[1;33m\u001b[0m\u001b[1;33m\u001b[0m\u001b[0m\n\u001b[0m\u001b[0;32m      5\u001b[0m \u001b[0mb\u001b[0m\u001b[1;33m=\u001b[0m\u001b[0mint\u001b[0m\u001b[1;33m(\u001b[0m\u001b[0minput\u001b[0m\u001b[1;33m(\u001b[0m\u001b[1;34m\"Enter a value for VAL2\"\u001b[0m\u001b[1;33m)\u001b[0m\u001b[1;33m)\u001b[0m\u001b[1;33m\u001b[0m\u001b[1;33m\u001b[0m\u001b[0m\n\u001b[0;32m      6\u001b[0m \u001b[1;33m\u001b[0m\u001b[0m\n",
      "\u001b[1;31mValueError\u001b[0m: invalid literal for int() with base 10: ''"
     ]
    }
   ],
   "source": [
    "def func1(val1,val2):\n",
    "    result=val1+val2\n",
    "    return result\n",
    "a=int(input(\"Enter a value for VAL1\"))\n",
    "b=int(input(\"Enter a value for VAL2\"))\n",
    "    \n",
    "func1(a,b)\n"
   ]
  },
  {
   "cell_type": "code",
   "execution_count": 9,
   "metadata": {},
   "outputs": [
    {
     "output_type": "stream",
     "name": "stdout",
     "text": [
      "*555\n**55\n***5\n****\n"
     ]
    }
   ],
   "source": [
    "def pattern():\n",
    "    for r in range (0,4,1):\n",
    "        print(\"*\"*((r*1)+1),end='')\n",
    "        print(\"5\"*(4-(r+1)))\n",
    "pattern()"
   ]
  },
  {
   "cell_type": "code",
   "execution_count": 10,
   "metadata": {},
   "outputs": [],
   "source": [
    "#TUPLE LOGIC BUILDING"
   ]
  },
  {
   "cell_type": "code",
   "execution_count": 11,
   "metadata": {},
   "outputs": [
    {
     "output_type": "stream",
     "name": "stdout",
     "text": [
      "('mouse', [1, 2, 3, 4], [5, 6, 7, 8])\n"
     ]
    },
    {
     "output_type": "execute_result",
     "data": {
      "text/plain": [
       "1"
      ]
     },
     "metadata": {},
     "execution_count": 11
    }
   ],
   "source": [
    "#  creating a tuple with differnrt types of elements and accessing the tuple and the specic elements \n",
    "#of the tuple and the subset of the tuple.\n",
    "\n",
    "\n",
    "my_tuple=(\"mouse\",[1,2,3,4],[5,6,7,8])\n",
    "print(my_tuple)\n",
    "my_tuple[0]\n",
    "my_tuple[1]\n",
    "my_tuple[1][0]\n"
   ]
  },
  {
   "cell_type": "code",
   "execution_count": 12,
   "metadata": {},
   "outputs": [
    {
     "output_type": "stream",
     "name": "stdout",
     "text": [
      "(1, 2, 3, 'dog', 4.6)\n1\n3\ndog\n"
     ]
    }
   ],
   "source": [
    "#packing and unpacking in tuple\n",
    "\n",
    "\n",
    "my_tuple=(1,2,3,\"dog\",4.6)#touple packing \n",
    "print(my_tuple)\n",
    "\n",
    "a,b,c,d,e=my_tuple#touple unpacking\n",
    "print(a)\n",
    "print(c)\n",
    "print(d)"
   ]
  },
  {
   "cell_type": "code",
   "execution_count": 13,
   "metadata": {},
   "outputs": [
    {
     "output_type": "execute_result",
     "data": {
      "text/plain": [
       "tuple"
      ]
     },
     "metadata": {},
     "execution_count": 13
    }
   ],
   "source": [
    "#define a tuple which contains a\n",
    "# string value. when queried, the tuple…\n",
    "\n",
    "my_tuple=(\"Hello World\")  #no comma string\n",
    "type(my_tuple)\n",
    "\n",
    "my_tuple=(\"hello\",)     #with comma touple\n",
    "type(my_tuple)"
   ]
  },
  {
   "cell_type": "code",
   "execution_count": 14,
   "metadata": {},
   "outputs": [
    {
     "output_type": "stream",
     "name": "stdout",
     "text": [
      "('b', 'c', 'd', 'e', 'f', 'g', 'h')\n('a', 'b', 'c', 'd', 'e')\n('a', 'b', 'c', 'd', 'e', 'f', 'g')\n"
     ]
    }
   ],
   "source": [
    "#tuple slicing\n",
    "\n",
    "my_tuple=('a','b','c','d','e','f','g','h')\n",
    "print(my_tuple[1:])#slicing from index of 1\n",
    "print(my_tuple[0:5])#in tuple slicing the lower limit and the upper limit both are included\n",
    "print(my_tuple[:-1])# removing the last element of the tuple\n"
   ]
  },
  {
   "cell_type": "code",
   "execution_count": 15,
   "metadata": {},
   "outputs": [
    {
     "output_type": "stream",
     "name": "stdout",
     "text": [
      "Hello world\n['H', 'e', 'l', 'l', 'o', ' ', 'w', 'o', 'r', 'l', 'd']\n('H', 'e', 'l', 'l', 'o', ' ', 'w', 'o', 'r', 'l', 'd')\n['H', 'e', 'l', 'l', 'o', ' ', 'w', 'o', 'r', 'l', 'd']\n"
     ]
    }
   ],
   "source": [
    "#convert tuple to list\n",
    "\n",
    "message=\"Hello world\"\n",
    "message1=(\"Hello world\")\n",
    "print(message)# printing message\n",
    "print(list(message))#converting to list\n",
    "print (tuple(message))#converting to tuple\n",
    "print(list(message1))# converting tuple to list\n"
   ]
  },
  {
   "cell_type": "code",
   "execution_count": 16,
   "metadata": {},
   "outputs": [
    {
     "output_type": "stream",
     "name": "stdout",
     "text": [
      "True\nFalse\n"
     ]
    }
   ],
   "source": [
    "#check if a value is present in tuple or not\n",
    "\n",
    "tuple=(1,2,3,'we',4)\n",
    "print(4 in tuple)\n",
    "print('x'in tuple)"
   ]
  },
  {
   "cell_type": "code",
   "execution_count": 17,
   "metadata": {},
   "outputs": [
    {
     "output_type": "stream",
     "name": "stdout",
     "text": [
      "(1, 2, 3, 4, 6, 7, 8, 9)\n"
     ]
    }
   ],
   "source": [
    "#concatination of tuple\n",
    "my_tuple1=(1,2,3,4)\n",
    "my_tuple2=(6,7,8,9)\n",
    "result=my_tuple1+my_tuple2\n",
    "print(result)"
   ]
  },
  {
   "cell_type": "code",
   "execution_count": 18,
   "metadata": {},
   "outputs": [
    {
     "output_type": "stream",
     "name": "stdout",
     "text": [
      "(1, 2, 3, 4, 5, ['a', 'b', 'c'])\n"
     ]
    }
   ],
   "source": [
    "#  reassigning of the tuple\n",
    " \n",
    "my_tuple=(1,2,3,4,5,['a','b','c'])\n",
    "my_tuple1=my_tuple  #reassigning the values of  my_tuple to my_tuple1\n",
    "print(my_tuple1)"
   ]
  },
  {
   "cell_type": "code",
   "execution_count": 19,
   "metadata": {},
   "outputs": [],
   "source": [
    "#LIST LOGIC BUILDING"
   ]
  },
  {
   "cell_type": "code",
   "execution_count": 20,
   "metadata": {},
   "outputs": [
    {
     "output_type": "stream",
     "name": "stdout",
     "text": [
      "t\nc\na\nb\n"
     ]
    }
   ],
   "source": [
    "# print the 1st charecter of each word in the list\n",
    "\n",
    "li=[\"tango\",\"charlie\",\"alpha\",\"bravo\"]\n",
    "for x in li:\n",
    "    print(x[0])"
   ]
  },
  {
   "cell_type": "code",
   "execution_count": 21,
   "metadata": {},
   "outputs": [
    {
     "output_type": "stream",
     "name": "stdout",
     "text": [
      "[98, 212, 309, 427, 538]\n"
     ]
    }
   ],
   "source": [
    "#print the sum of each element of a string in a list\n",
    "\n",
    "list_1=[\"tango\",\"charlie\",\"alpha\",\"bravo\"] #assigning the list\n",
    "list_2=[]                           #declairing a empty list\n",
    "\n",
    "\n",
    "for i in list_1:                    #setting a loop in list_1\n",
    "    sum=0                                       #initializing the sum value\n",
    "for j in i:                         #setting a loop for each element in the string\n",
    "    sum=sum+ord(j)                  #calculating the sum\n",
    "    list_2.append(sum)                  #appending the value of the sum variable in list_2\n",
    "print(list_2)                       #printing the result"
   ]
  },
  {
   "cell_type": "code",
   "execution_count": 22,
   "metadata": {},
   "outputs": [
    {
     "output_type": "error",
     "ename": "ValueError",
     "evalue": "invalid literal for int() with base 10: ''",
     "traceback": [
      "\u001b[1;31m---------------------------------------------------------------------------\u001b[0m",
      "\u001b[1;31mValueError\u001b[0m                                Traceback (most recent call last)",
      "\u001b[1;32m<ipython-input-22-08cd7b481f00>\u001b[0m in \u001b[0;36m<module>\u001b[1;34m\u001b[0m\n\u001b[0;32m     13\u001b[0m \u001b[1;32mif\u001b[0m \u001b[0m__name__\u001b[0m\u001b[1;33m==\u001b[0m\u001b[1;34m\"__main__\"\u001b[0m\u001b[1;33m:\u001b[0m\u001b[1;33m\u001b[0m\u001b[1;33m\u001b[0m\u001b[0m\n\u001b[0;32m     14\u001b[0m  \u001b[0mlist1\u001b[0m\u001b[1;33m=\u001b[0m\u001b[1;33m[\u001b[0m\u001b[1;33m]\u001b[0m\u001b[1;33m\u001b[0m\u001b[1;33m\u001b[0m\u001b[0m\n\u001b[1;32m---> 15\u001b[1;33m  \u001b[0mn\u001b[0m\u001b[1;33m=\u001b[0m\u001b[0mint\u001b[0m\u001b[1;33m(\u001b[0m\u001b[0minput\u001b[0m\u001b[1;33m(\u001b[0m\u001b[1;34m\"Enter the limit of the array\"\u001b[0m\u001b[1;33m)\u001b[0m\u001b[1;33m)\u001b[0m\u001b[1;33m\u001b[0m\u001b[1;33m\u001b[0m\u001b[0m\n\u001b[0m\u001b[0;32m     16\u001b[0m  \u001b[1;32mfor\u001b[0m \u001b[0mi\u001b[0m \u001b[1;32min\u001b[0m \u001b[0mrange\u001b[0m\u001b[1;33m(\u001b[0m\u001b[1;36m0\u001b[0m\u001b[1;33m,\u001b[0m\u001b[0mn\u001b[0m\u001b[1;33m,\u001b[0m\u001b[1;36m1\u001b[0m\u001b[1;33m)\u001b[0m\u001b[1;33m:\u001b[0m\u001b[1;33m\u001b[0m\u001b[1;33m\u001b[0m\u001b[0m\n\u001b[0;32m     17\u001b[0m      \u001b[0mlist1_ele\u001b[0m\u001b[1;33m=\u001b[0m\u001b[0mint\u001b[0m\u001b[1;33m(\u001b[0m\u001b[0minput\u001b[0m\u001b[1;33m(\u001b[0m\u001b[1;34m\"Enter the input of the list1\"\u001b[0m\u001b[1;33m)\u001b[0m\u001b[1;33m)\u001b[0m\u001b[1;33m\u001b[0m\u001b[1;33m\u001b[0m\u001b[0m\n",
      "\u001b[1;31mValueError\u001b[0m: invalid literal for int() with base 10: ''"
     ]
    }
   ],
   "source": [
    "def dup_num(list1):\n",
    "    rep=[]\n",
    "    len_list1=(len(list1))\n",
    "    for i in range(0,len_list1,1):\n",
    "        k=i+1\n",
    "        for j in range(k,len_list1,1):\n",
    "            if(list1[i]==list1[j]) and list1[i] not in rep:\n",
    "                rep.append(list1[i])\n",
    "    print(rep)\n",
    "    return rep\n",
    "\n",
    "#driver code\n",
    "if __name__==\"__main__\":\n",
    " list1=[]\n",
    " n=int(input(\"Enter the limit of the array\"))\n",
    " for i in range(0,n,1):\n",
    "     list1_ele=int(input(\"Enter the input of the list1\"))\n",
    "     list1.append(list1_ele)\n",
    "    \n",
    " dup_num(list1)\n",
    "\n",
    "\n"
   ]
  },
  {
   "cell_type": "code",
   "execution_count": 49,
   "metadata": {},
   "outputs": [
    {
     "output_type": "stream",
     "name": "stdout",
     "text": [
      "enter the element\n",
      "['1', '2', '3', '4', '5']\n",
      "enter the elelment to search\n",
      "FOUND\n"
     ]
    }
   ],
   "source": [
    "#check if a value is present in list or not\n",
    "list1=[]\n",
    "\n",
    "n=int(input(\"enter the limit of the array\"))\n",
    "print(\"enter the element\")\n",
    "\n",
    "for x in range(0,n,1):\n",
    "    n1=input()\n",
    "    list1.append(n1)\n",
    "\n",
    "print(list11)\n",
    "\n",
    "print(\"enter the elelment to search\")\n",
    "v=input()\n",
    "\n",
    "if(v in list1):\n",
    "    print(\"FOUND\")\n",
    "else:\n",
    "    print(\"NOT FOUND\")\n",
    "\n"
   ]
  },
  {
   "cell_type": "code",
   "execution_count": 36,
   "metadata": {},
   "outputs": [
    {
     "output_type": "stream",
     "name": "stdout",
     "text": [
      "divisible by 4\n"
     ]
    }
   ],
   "source": [
    "# check if the last number and first number of the list is divisible by 4\n",
    "\n",
    "\n",
    "def func1(list1):\n",
    "    if(list1[-1]%4==0 and list1[0]%4==0):\n",
    "        print(\"divisible by 4\")\n",
    "    else:\n",
    "        print(\"not divisible by 4\")\n",
    "        \n",
    "   \n",
    " #driver code\n",
    "if __name__==\"__main__\":\n",
    "    list1=[int(i) for i in(input(\"Enter the elemnts of the list\").split()) ]# adding the element of the list in a list comprehension manner\n",
    "    func1(list1)"
   ]
  },
  {
   "cell_type": "code",
   "execution_count": 51,
   "metadata": {},
   "outputs": [],
   "source": [
    "#check if the last and the first number are equal and divisible by 2\n",
    "\n",
    "def func(list1):\n",
    "    if (list1[-1]==list[0] and list1[0]%2==0):\n",
    "        print(\"condition is satisfied\")\n",
    "    else:\n",
    "        print(\"Condition is not satisfied\")\n",
    "\n",
    "    #driver code\n",
    "    if __name__==\"__main__\":\n",
    "        list1=[int(i) for i in(input(\"Enter the elemnts of the list\").split()) ]\n",
    "        func(list1)\n"
   ]
  },
  {
   "cell_type": "code",
   "execution_count": 5,
   "metadata": {},
   "outputs": [
    {
     "output_type": "stream",
     "name": "stdout",
     "text": [
      "15\n"
     ]
    }
   ],
   "source": [
    "#wap to print  the sum of all the elements of the list\n",
    "\n",
    "def sum_func(list1):\n",
    "    sum=0\n",
    "    for i in list1:\n",
    "        sum=sum+i\n",
    "    print(sum)\n",
    "    return sum\n",
    "\n",
    "#driver code\n",
    "if __name__==\"__main__\":\n",
    "    list1=[1,2,3,4,5]\n",
    "    sum_func(list1)\n",
    "\n"
   ]
  },
  {
   "cell_type": "code",
   "execution_count": 9,
   "metadata": {},
   "outputs": [
    {
     "output_type": "stream",
     "name": "stdout",
     "text": [
      "deque([3, 4, 5, 6, 1, 2])\n"
     ]
    }
   ],
   "source": [
    "#wap to do a left rotation in a list\n",
    "\n",
    "import collections as cl #importing a module collections\n",
    "l1=[1,2,3,4,5,6]\n",
    "#l2=cl.deque(l1)#using the deque function of collection\n",
    "#print(l2)\n",
    "l2.rotate(2)#using the rotate function\n",
    "print(l2)\n"
   ]
  },
  {
   "cell_type": "code",
   "execution_count": 10,
   "metadata": {},
   "outputs": [
    {
     "output_type": "stream",
     "name": "stdout",
     "text": [
      "[50, 50, 50, 50, 50]\n"
     ]
    }
   ],
   "source": [
    "# wap to find the maximun number in a list and replace all the number with the maximum number\n",
    "\n",
    "list=[10,20,30,40,50]                   #assigning the list\n",
    "maxVal=max(list)                             #finding the maximum value of the list\n",
    "\n",
    "index=0                                     #setting the value of the index  \n",
    "for i in list:                                 #setting a loop to iterate the list\n",
    "    list[index]=maxVal                      # changing the values of each index with the maxium value\n",
    "    index+=1                            #incrementing the value of the index\n",
    "print(list)                                         #printing the list\n",
    "\n"
   ]
  },
  {
   "cell_type": "code",
   "execution_count": 3,
   "metadata": {},
   "outputs": [
    {
     "output_type": "stream",
     "name": "stdout",
     "text": [
      "[20, 35, 65, 78, 90, 13, 14]\n"
     ]
    }
   ],
   "source": [
    "#wap to print all elemnts in the list except the first and the last element\n",
    "\n",
    "l1=[10,20,35,65,78,90,13,14,16]\n",
    "print(l1[1:-1])    #slicing operator\n",
    "\n",
    "\n"
   ]
  },
  {
   "cell_type": "code",
   "execution_count": 5,
   "metadata": {},
   "outputs": [
    {
     "output_type": "stream",
     "name": "stdout",
     "text": [
      "4 8 12 16 20 "
     ]
    }
   ],
   "source": [
    "#find all the number in a list which a re multiple of 4\n",
    "\n",
    "list=[1,2,3,4,5,6,7,8,9,10,12,16,20,25]\n",
    "\n",
    "\n",
    "for i in list:\n",
    "    if(i%4==0):\n",
    "        print(i,end=\" \")\n",
    "        \n"
   ]
  },
  {
   "cell_type": "code",
   "execution_count": null,
   "metadata": {},
   "outputs": [],
   "source": [
    "# SHALLOW COPY AND DEEP COPY  "
   ]
  },
  {
   "cell_type": "code",
   "execution_count": 9,
   "metadata": {},
   "outputs": [
    {
     "output_type": "stream",
     "name": "stdout",
     "text": [
      "['red', 'green ', 'blue']\n['yellow', 'green ', 'blue']\n"
     ]
    }
   ],
   "source": [
    "# modify  the elements of a list with the help of a new list\n",
    "colrs1=[\"red\",\"green \",\"blue\"]\n",
    "colrs2=colrs1 # the adress of the colrs1 is assigned to colors2 (shallow copy)             \n",
    "colrs2=[\"yellow\",\"green\",\"blue\"] # the whole adress of the colors1 is changed by colrs2 hence the list is not affected by the new list\n",
    "print(colrs1)\n",
    "\n",
    "colrs2[0]=\"yellow\"#here we are accessing a specific adress of colors2 and modifying it so colors1 is aslo affected\n",
    "print(colrs1)\n",
    "\n",
    "\n"
   ]
  },
  {
   "cell_type": "code",
   "execution_count": 14,
   "metadata": {},
   "outputs": [
    {
     "output_type": "stream",
     "name": "stdout",
     "text": [
      "[1, 2, 3, 4, 5, 6, 7, 8]\n[1, 2, 9, 4, 5, 6, 7, 8]\n[1, 2, 3, 4, 5, 6, 7, 8]\n"
     ]
    }
   ],
   "source": [
    "# modify a list with help of the slice operator and a new list\n",
    "\n",
    "list1=[1,2,3,4,5,6,7,8]\n",
    "list2=list1[:]#a new list is created with new object and not the adress of the list1 is assigned to list2(deep copy)\n",
    "print(list2) \n",
    "list2[2]=9\n",
    "print(list2)\n",
    "print(list1)#list1 is not changed because list2 is not an adress copy of the list1 it a new list created by the slice operater so change in list2 will not affect the list1"
   ]
  },
  {
   "cell_type": "code",
   "execution_count": 19,
   "metadata": {},
   "outputs": [
    {
     "output_type": "stream",
     "name": "stdout",
     "text": [
      "[1, 2, 3, 4, [6, 7], [8, 9]]\n[1, 2, 3, 4, [6, 7], [8, 9]]\n[1, 2, 3, 4, [6, 7], [12, 9]]\n[1, 2, 3, 4, [6, 7], [12, 9]]\n"
     ]
    }
   ],
   "source": [
    "#modify the sub list of a list with the help of a slice operator and a new list\n",
    "\n",
    "list1=[1,2,3,4,[6,7],[8,9]]\n",
    "list2=list1[:]\n",
    "print(list1)\n",
    "print(list2)\n",
    "list2[5][0]=12#the sublist of list1 gets affectded if we modify the  sublist of list2 but the list is not affected\n",
    "print(list2)\n",
    "print(list1)"
   ]
  },
  {
   "cell_type": "code",
   "execution_count": 28,
   "metadata": {},
   "outputs": [
    {
     "output_type": "stream",
     "name": "stdout",
     "text": [
      "[1, 2, 3, 4, 5, [67, 89], 98]\n[100, 2, 3, 4, 5, [67, 89], 98]\n[1, 2, 3, 4, 5, [67, 89], 98]\n[100, 2, 3, 4, 5, [101, 89], 98]\n[1, 2, 3, 4, 5, [67, 89], 98]\n"
     ]
    }
   ],
   "source": [
    "#deep copy using the deepcopy function of the copy module\n",
    "\n",
    "from copy import deepcopy\n",
    "\n",
    "list1=[1,2,3,4,5,[67,89],98]\n",
    "list2=deepcopy(list1)\n",
    "print(list2)\n",
    "list2[0]=100\n",
    "print(list2)\n",
    "print(list1) \n",
    "list2[5][0]=101\n",
    "print(list2)\n",
    "print(list1)\n",
    "\n",
    "\n",
    "\n",
    "\n"
   ]
  },
  {
   "cell_type": "code",
   "execution_count": 35,
   "metadata": {},
   "outputs": [
    {
     "output_type": "stream",
     "name": "stdout",
     "text": [
      "[1, 2, 3, 4, 5, 67, [45, 65], 3] [1, 2, 3, 4, 5, 67, [45, 65], 3]\n[100, 2, 3, 4, 5, 67, [45, 65], 3] [1, 2, 3, 4, 5, 67, [45, 65], 3]\n"
     ]
    }
   ],
   "source": [
    "#modify a list using copy function(shallow copy) of the copy module\n",
    "\n",
    "from copy import copy\n",
    "\n",
    "list1=[1,2,3,4,5,67,[45,65],3]\n",
    "list2=copy(list1)\n",
    "\n",
    "print(list1,end=' ')\n",
    "print(list2)\n",
    "list2[0]=100\n",
    "print(list2,end=' ')\n",
    "print(list1)\n",
    "\n",
    "\n"
   ]
  },
  {
   "cell_type": "code",
   "execution_count": 40,
   "metadata": {},
   "outputs": [
    {
     "output_type": "stream",
     "name": "stdout",
     "text": [
      "the integer value of the number is 56\n56\n"
     ]
    },
    {
     "output_type": "execute_result",
     "data": {
      "text/plain": [
       "str"
      ]
     },
     "metadata": {},
     "execution_count": 40
    }
   ],
   "source": [
    "# STR-convert integer to string\n",
    "\n",
    "str1=\"the integer value of the number is\"\n",
    "num=56\n",
    "str2=str(num)\n",
    "print(str1,str(num))\n",
    "print(str2)\n",
    "type(str2)"
   ]
  },
  {
   "cell_type": "code",
   "execution_count": null,
   "metadata": {},
   "outputs": [],
   "source": [
    "#repr method"
   ]
  },
  {
   "cell_type": "code",
   "execution_count": null,
   "metadata": {},
   "outputs": [],
   "source": [
    "#STRING LOGIC BUILDING\n"
   ]
  },
  {
   "cell_type": "code",
   "execution_count": 2,
   "metadata": {},
   "outputs": [
    {
     "output_type": "stream",
     "name": "stdout",
     "text": [
      "hon\nhon\nhon\nhon\n"
     ]
    }
   ],
   "source": [
    "#wap to print an output string that generates 4 copies of the last three charecter of a given string\n",
    "\n",
    "str1=\"Hello World welcome to python\"\n",
    "str2=\"\"\n",
    "for i in range(0,4,1):\n",
    "    str2=str1[-3:]\n",
    "    print(str2)"
   ]
  },
  {
   "cell_type": "code",
   "execution_count": 9,
   "metadata": {},
   "outputs": [
    {
     "output_type": "stream",
     "name": "stdout",
     "text": [
      "defabc\n"
     ]
    }
   ],
   "source": [
    "#wap in python to generate a string that contains the last half and the first half of a given string, te given string is of even length\n",
    "\n",
    "\n",
    "str1=\"abcdef\"\n",
    "l=len(str1)\n",
    "\n",
    "midPoint=int(l//2)\n",
    "firstHalf=str1[:midPoint]\n",
    "lastHalf=str1[midPoint:]\n",
    "outputStr=lastHalf+firstHalf\n",
    "print(outputStr)"
   ]
  },
  {
   "cell_type": "code",
   "execution_count": 11,
   "metadata": {},
   "outputs": [
    {
     "output_type": "stream",
     "name": "stdout",
     "text": [
      "dlrow olleh\n"
     ]
    },
    {
     "output_type": "execute_result",
     "data": {
      "text/plain": [
       "\"for i in reversed(str):\\n    line.append(i)\\n    rev=''.join(line)\\n\\nprint(rev)\""
      ]
     },
     "metadata": {},
     "execution_count": 11
    }
   ],
   "source": [
    "#wap to print \"hello world \" to \"dlrow olleh\"\n",
    "\n",
    "#using the for loop method\n",
    "\n",
    "str=\"hello world\"\n",
    "l=len(str)\n",
    "for i in reversed(str):# using the loop in the reversed string\n",
    "    line.append(i)\n",
    "    rev=''.join(line)\n",
    "\n",
    "print(rev)\n",
    "\n",
    "# using the revesred function\n",
    "\n",
    "\"\"\"str=\"Hello World\"\n",
    "print(str)\n",
    "print(list(reversed(str)))\"\"\"\n",
    "\n",
    " # using the string slicing\n",
    "\n",
    "\"\"\"str=\"hello world\"\n",
    "str1=str[::-1]\n",
    "print(str1)\"\"\"\n"
   ]
  },
  {
   "cell_type": "code",
   "execution_count": 39,
   "metadata": {},
   "outputs": [
    {
     "output_type": "stream",
     "name": "stdout",
     "text": [
      "Hello World\n['Hello', 'World']\n['World', 'Hello']\n"
     ]
    }
   ],
   "source": [
    "#Hello World to world Hello in array format\n",
    "#input=\"hello world\"\n",
    "#output=[\"world\",\"hello\"]\n",
    "\n",
    "\n",
    "str1=\"Hello World\"\n",
    "str2=list(str.split())\n",
    "print(str1)\n",
    "print(str2)\n",
    "print(list(reversed(str2))) \n",
    "\n",
    "\n",
    "\n",
    "\n"
   ]
  },
  {
   "cell_type": "code",
   "execution_count": 35,
   "metadata": {},
   "outputs": [
    {
     "output_type": "stream",
     "name": "stdout",
     "text": [
      "['Hello', 'World']\n['World', 'Hello']\nWorld Hello\n"
     ]
    }
   ],
   "source": [
    "#wap to hello world to world hello in string format\n",
    "#input=\"hello world\"\n",
    "#output=\"world hello\"\n",
    "\n",
    "\n",
    "str1=\"Hello World\"\n",
    "str2=(str.split())\n",
    "print(str2)\n",
    "str3=list(reversed(str2))\n",
    "print(str3)\n",
    "str4=\" \".join(str3)\n",
    "print(str4)\n"
   ]
  },
  {
   "cell_type": "code",
   "execution_count": 42,
   "metadata": {},
   "outputs": [
    {
     "output_type": "stream",
     "name": "stdout",
     "text": [
      "ello Worl\n"
     ]
    }
   ],
   "source": [
    "# wap to print the string excluding the 1st and the last letter\n",
    "str1=\"Hello World\"\n",
    "l=len(str1)\n",
    "print(str1[1:(l-1)])"
   ]
  },
  {
   "cell_type": "code",
   "execution_count": null,
   "metadata": {},
   "outputs": [],
   "source": [
    "# wap to left rotate a string\n",
    "#input=\"hello\" output=\"llohe\"\n",
    "\n",
    "def rotate_1(str1,n):\n",
    "    l=len(str1)\n",
    "    rotatedString= rotate(str1,n)\n",
    "    return rotatedString\n",
    "\n",
    "\"\"\"if __name__==\"__main\":\n",
    "    str1=input(\"Enter the String\")\n",
    "    n=int(input(\"Enter the reverse order\"))\"\"\"\n",
    "rotate_1(\"hello\",3)\n"
   ]
  },
  {
   "cell_type": "code",
   "execution_count": 24,
   "metadata": {},
   "outputs": [
    {
     "output_type": "stream",
     "name": "stdout",
     "text": [
      "wElcOmE tO pythOn\n"
     ]
    }
   ],
   "source": [
    "# wap to convert each vowel of a string in upper case\n",
    "\n",
    "\"\"\"def toggle(str1):\n",
    "    l=len(str1)\n",
    "    newStr=\"\"\n",
    "    index=0\n",
    "    for i in str1:\n",
    "        if i  in \"a,e,i,o,u\":\n",
    "             print(chr(ord(str1[index])-32))\n",
    "             newStr=newStr+chr(ord(str1[index])-32)\n",
    "        else:\n",
    "            newStr=newStr+str1[index]\n",
    "        index+=1\n",
    "    print(newStr)\n",
    "   return toggle\n",
    "\n",
    "\n",
    "if __name__==\"__main__\":\n",
    "    str1=\"Welcome to python\"\n",
    "    toggle(str1)\"\"\"\n",
    "\n",
    "\n",
    "\n",
    "def toggle(str1):\n",
    "    newStr=\"\"\n",
    "    for i in str1:\n",
    "        if i in \"aeiou\":\n",
    "            newStr=newStr+i.upper()\n",
    "        else:\n",
    "            newStr=newStr+i\n",
    "    print(newStr)\n",
    "    return toggle\n",
    "\n",
    "if __name__==\"__main__\":\n",
    "    str1=\"welcome to python\"\n",
    "    toggle(str1)\n",
    "\n",
    "\n",
    "\n",
    "\n",
    "\n",
    "\n",
    "\n"
   ]
  },
  {
   "cell_type": "code",
   "execution_count": 40,
   "metadata": {},
   "outputs": [
    {
     "output_type": "stream",
     "name": "stdout",
     "text": [
      "The vowels are a a a a u i o \nThe total vowels are 7\n"
     ]
    }
   ],
   "source": [
    "#wap to count the number of vowels in a string\n",
    "\n",
    "\n",
    "str1=input(\"Enter the string\")\n",
    "flag=0\n",
    "print(\"The vowels are\",end=' ')\n",
    "for i in str1:\n",
    "    if (i in \"aeiouAEIOU\"):\n",
    "        print(i,sep=',',end=\" \")\n",
    "        flag=flag+1\n",
    "print(\"\\nThe total vowels are\",flag)\n"
   ]
  },
  {
   "cell_type": "code",
   "execution_count": 44,
   "metadata": {},
   "outputs": [
    {
     "output_type": "stream",
     "name": "stdout",
     "text": [
      "The maxium length is 10\nThe LongestString is asdertukgfdghgdfgfjfjf\n"
     ]
    }
   ],
   "source": [
    "# Wap to find the longest string in a given list of string\n",
    "list1=[\"asd\",\"ertukgfdg\",\"hgdfgfjfjf\"]\n",
    "longestString=\"\"\n",
    "maxLength=0\n",
    "for i in list1:\n",
    "        if (len(i) > maxLength):\n",
    "            maxLength=len(i)\n",
    "            longestString=longestString+i\n",
    "print(\"The maxium length is\",maxLength)\n",
    "print(\"The LongestString is\",longestString)\n",
    "\n",
    "\n"
   ]
  },
  {
   "cell_type": "code",
   "execution_count": 45,
   "metadata": {},
   "outputs": [],
   "source": [
    "#NUMBERS\n"
   ]
  },
  {
   "cell_type": "code",
   "execution_count": 47,
   "metadata": {},
   "outputs": [
    {
     "output_type": "stream",
     "name": "stdout",
     "text": [
      "The number is prime\n"
     ]
    }
   ],
   "source": [
    "#Prime Number\n",
    "\n",
    "n=int(input(\"Enter the number\"))\n",
    "counter=0\n",
    "for x in range(1,n+1,1):\n",
    "    if(n%x==0):\n",
    "        counter=counter+1\n",
    "if(counter==2):\n",
    "    print(\"The number is prime\")\n",
    "else:\n",
    "    print(\"The number is not prime\")"
   ]
  },
  {
   "cell_type": "code",
   "execution_count": 55,
   "metadata": {},
   "outputs": [
    {
     "output_type": "stream",
     "name": "stdout",
     "text": [
      "The factorial is  2\n"
     ]
    }
   ],
   "source": [
    "#Factorial Number\n",
    "\n",
    "\n",
    "n=int(input(\"Enter the number\"))\n",
    "m=1\n",
    "for x in range(1,n+1,1):\n",
    "    m=m*x\n",
    "print(\"The factorial is \",m)\n",
    "\n",
    "    \n",
    "\n"
   ]
  },
  {
   "cell_type": "code",
   "execution_count": null,
   "metadata": {},
   "outputs": [],
   "source": [
    "# FILE HANDLING"
   ]
  },
  {
   "cell_type": "code",
   "execution_count": null,
   "metadata": {},
   "outputs": [],
   "source": []
  }
 ]
}